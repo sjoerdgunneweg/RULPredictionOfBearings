{
 "cells": [
  {
   "cell_type": "code",
   "execution_count": 1,
   "id": "fdfeac5e-5e36-47ed-ba06-8dc5bdc1f2b5",
   "metadata": {},
   "outputs": [],
   "source": [
    "from torchHHT import hht\n",
    "import torch, os\n",
    "import pandas as pd"
   ]
  },
  {
   "cell_type": "code",
   "execution_count": 2,
   "id": "4c0d01fd-65a8-426f-a943-ccd23762eea2",
   "metadata": {},
   "outputs": [
    {
     "name": "stdout",
     "output_type": "stream",
     "text": [
      "CPU times: user 1h 22min 46s, sys: 4min 37s, total: 1h 27min 23s\n",
      "Wall time: 5min 27s\n"
     ]
    }
   ],
   "source": [
    "%%time\n",
    "fs = 25600\n",
    "directory = \"data/FEMTO/Bearing1_3\"\n",
    "\n",
    "for fileName in os.listdir(directory):\n",
    "    filePath = os.path.join(directory, fileName)\n",
    "\n",
    "    if(filePath[22:26] == 'temp'): #skip all temperature data\n",
    "        continue\n",
    "\n",
    "    col_names = ['Hour', 'Minute', 'Second', 'Nano_second', 'Horizontal', 'Vertical']\n",
    "\n",
    "    data = pd.read_csv(filePath, sep=',', names=col_names) # femto1_7 dataset is seperated by comma others by semicolon\n",
    "    \n",
    "    horizontal = data['Horizontal']\n",
    "    vertical = data['Vertical']\n",
    "\n",
    "    tensor_horizontal = torch.Tensor(horizontal.values)\n",
    "    tensor_vertical = torch.Tensor(vertical.values)\n",
    "\n",
    "    tensor_combined = torch.sqrt(torch.pow(tensor_horizontal, 2) + torch.pow(tensor_vertical, 2))\n",
    "\n",
    "\n",
    "    if torch.cuda.is_available():\n",
    "        device = torch.device(\"cuda:0\")\n",
    "        tensor_horizontal = tensor_horizontal.cuda()\n",
    "        tensor_vertical = tensor_vertical.cuda()\n",
    "        tensor_combined = tensor_combined.cuda()\n",
    "\n",
    "    # imfs_horizontal, imfs_env_horizontal, imfs_freq_horizontal = hht.hilbert_huang(tensor_horizontal, fs, num_imf=3)\n",
    "    # imfs_vertical, imfs_env_vertical, imfs_freq_vertical = hht.hilbert_huang(tensor_vertical, fs, num_imf=3)\n",
    "    imfs_combined, imfs_env_combined, imfs_freq_combined = hht.hilbert_huang(tensor_combined, fs, num_imf=3)\n",
    "\n",
    "    # imf_string_horizontal = \"imfs_Bearing1_7_horizontal_\" + fileName[:-4]  + \".pt\"\n",
    "    # imf_env_string_horizontal = \"imfs_env_Bearing1_7_horizontal_\" + fileName[:-4]  + \".pt\"\n",
    "    # imf_freq_string_horizontal = \"imfs_freq_Bearing1_7_horizontal_\" + fileName[:-4]  + \".pt\"\n",
    "    # imf_string_vertical = \"imfs_Bearing1_7_vertical_\" + fileName[:-4]  + \".pt\"\n",
    "    # imf_env_string_vertical = \"imfs_env_Bearing1_7_vertical_\" + fileName[:-4]  + \".pt\"\n",
    "    # imf_freq_string_vertical = \"imfs_freq_Bearing1_7_vertical_\" + fileName[:-4]  + \".pt\"\n",
    "\n",
    "    imf_string_combined = \"imfs_\" + filePath[11:21] + \"_combined_\" + fileName[:-4]  + \".pt\"\n",
    "    imf_env_string_combined = \"imfs_env_\" + filePath[11:21] + \"_combined_\" + fileName[:-4]  + \".pt\"\n",
    "    imf_freq_string_combined = \"imfs_freq_\" + filePath[11:21] + \"_combined_\" + fileName[:-4]  + \".pt\"\n",
    "\n",
    "    # print(imf_freq_string_combined)\n",
    "    # break\n",
    "    \n",
    "    # torch.save(imfs_horizontal, os.path.join(\"IMFs/FEMTO/Bearing1_7/horizontal\", imf_string_horizontal))\n",
    "    # torch.save(imfs_vertical, os.path.join(\"IMFs/FEMTO/Bearing1_7/vertical\", imf_string_vertical))\n",
    "    torch.save(imfs_combined, os.path.join(\"IMFs/FEMTO/Bearing1_3/combined\", imf_string_combined))\n",
    "\n",
    "    # torch.save(imfs_env_horizontal, os.path.join(\"IMF_ENVs/FEMTO/Bearing1_7/horizontal\", imf_env_string_horizontal))\n",
    "    # torch.save(imfs_env_vertical, os.path.join(\"IMF_ENVs/FEMTO/Bearing1_7/vertical\", imf_env_string_vertical))\n",
    "    torch.save(imfs_env_combined, os.path.join(\"IMF_ENVs/FEMTO/Bearing1_3/combined\", imf_env_string_combined))\n",
    "\n",
    "    \n",
    "    # torch.save(imfs_freq_horizontal, os.path.join(\"IMF_FREQs/FEMTO/Bearing1_7/horizontal\", imf_freq_string_horizontal))\n",
    "    # torch.save(imfs_freq_vertical, os.path.join(\"IMF_FREQs/FEMTO/Bearing1_7/vertical\", imf_freq_string_vertical))\n",
    "    torch.save(imfs_freq_combined, os.path.join(\"IMF_FREQs/FEMTO/Bearing1_3/combined\", imf_freq_string_combined))"
   ]
  },
  {
   "cell_type": "code",
   "execution_count": null,
   "id": "5e2a80a8-1891-40b4-bfb8-b4344d7b1aa0",
   "metadata": {},
   "outputs": [],
   "source": []
  }
 ],
 "metadata": {
  "kernelspec": {
   "display_name": "Python 3 (ipykernel)",
   "language": "python",
   "name": "python3"
  },
  "language_info": {
   "codemirror_mode": {
    "name": "ipython",
    "version": 3
   },
   "file_extension": ".py",
   "mimetype": "text/x-python",
   "name": "python",
   "nbconvert_exporter": "python",
   "pygments_lexer": "ipython3",
   "version": "3.10.13"
  }
 },
 "nbformat": 4,
 "nbformat_minor": 5
}
