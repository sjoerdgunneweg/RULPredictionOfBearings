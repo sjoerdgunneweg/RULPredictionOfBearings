{
 "cells": [
  {
   "cell_type": "code",
   "execution_count": null,
   "id": "fdfeac5e-5e36-47ed-ba06-8dc5bdc1f2b5",
   "metadata": {},
   "outputs": [
    {
     "ename": "",
     "evalue": "",
     "output_type": "error",
     "traceback": [
      "\u001b[1;31mRunning cells with 'Python 3.11.2' requires the ipykernel package.\n",
      "\u001b[1;31mRun the following command to install 'ipykernel' into the Python environment. \n",
      "\u001b[1;31mCommand: '/bin/python3 -m pip install ipykernel -U --user --force-reinstall'"
     ]
    }
   ],
   "source": [
    "from torchHHT import hht\n",
    "import torch, os\n",
    "import pandas as pd"
   ]
  },
  {
   "cell_type": "code",
   "execution_count": null,
   "id": "5e2a80a8-1891-40b4-bfb8-b4344d7b1aa0",
   "metadata": {},
   "outputs": [
    {
     "ename": "",
     "evalue": "",
     "output_type": "error",
     "traceback": [
      "\u001b[1;31mRunning cells with 'Python 3.11.2' requires the ipykernel package.\n",
      "\u001b[1;31mRun the following command to install 'ipykernel' into the Python environment. \n",
      "\u001b[1;31mCommand: '/bin/python3 -m pip install ipykernel -U --user --force-reinstall'"
     ]
    }
   ],
   "source": [
    "def imfs_FEMTO(fs, directory:str, bearing:str):\n",
    "\n",
    "    for fileName in os.listdir(directory):\n",
    "        filePath = os.path.join(directory, fileName)\n",
    "\n",
    "        if(filePath[22:26] == 'temp'): #skip all temperature data\n",
    "            continue\n",
    "\n",
    "        col_names = ['Hour', 'Minute', 'Second', 'Nano_second', 'Horizontal', 'Vertical']\n",
    "\n",
    "        # femto1_7 dataset is seperated by comma others by semicolon\n",
    "        if (bearing == \"Bearing1_7\"):\n",
    "            data = pd.read_csv(filePath, sep=',', names=col_names) \n",
    "        else:\n",
    "            data = pd.read_csv(filePath, sep=';', names=col_names)\n",
    "        \n",
    "        horizontal = data['Horizontal']\n",
    "        vertical = data['Vertical']\n",
    "\n",
    "        tensor_horizontal = torch.Tensor(horizontal.values)\n",
    "        tensor_vertical = torch.Tensor(vertical.values)\n",
    "\n",
    "        tensor_combined = torch.sqrt(torch.pow(tensor_horizontal, 2) + torch.pow(tensor_vertical, 2))\n",
    "\n",
    "\n",
    "        if torch.cuda.is_available():\n",
    "            device = torch.device(\"cuda:0\")\n",
    "            tensor_horizontal = tensor_horizontal.cuda()\n",
    "            tensor_vertical = tensor_vertical.cuda()\n",
    "            tensor_combined = tensor_combined.cuda()\n",
    "\n",
    "        imfs_horizontal, imfs_env_horizontal, imfs_freq_horizontal = hht.hilbert_huang(tensor_horizontal, fs, num_imf=3)\n",
    "        imfs_vertical, imfs_env_vertical, imfs_freq_vertical = hht.hilbert_huang(tensor_vertical, fs, num_imf=3)\n",
    "        imfs_combined, imfs_env_combined, imfs_freq_combined = hht.hilbert_huang(tensor_combined, fs, num_imf=3)\n",
    "\n",
    "        imf_string_horizontal = \"imfs_\" + bearing + \"_horizontal_\" + fileName[:-4]  + \".pt\"\n",
    "        imf_env_string_horizontal = \"imfs_env_\" + bearing + \"_horizontal_\" + fileName[:-4]  + \".pt\"\n",
    "        imf_freq_string_horizontal = \"imfs_freq_\" + bearing + \"_horizontal_\" + fileName[:-4]  + \".pt\"\n",
    "\n",
    "        imf_string_vertical = \"imfs_\" + bearing + \"_vertical_\" + fileName[:-4]  + \".pt\"\n",
    "        imf_env_string_vertical = \"imfs_env_\" + bearing + \"_vertical_\" + fileName[:-4]  + \".pt\"\n",
    "        imf_freq_string_vertical = \"imfs_freq_\" + bearing + \"_vertical_\" + fileName[:-4]  + \".pt\"\n",
    "\n",
    "        imf_string_combined = \"imfs_\" + bearing + \"_combined_\" + fileName[:-4]  + \".pt\"\n",
    "        imf_env_string_combined = \"imfs_env_\" + bearing + \"_combined_\" + fileName[:-4]  + \".pt\"\n",
    "        imf_freq_string_combined = \"imfs_freq_\" + bearing + \"_combined_\" + fileName[:-4]  + \".pt\"\n",
    "\n",
    "        folder_IMF_hor = \"IMFs/FEMTO/\" + bearing + \"/horizontal\"\n",
    "        folder_IMF_ver = \"IMFs/FEMTO/\" + bearing + \"/vertical\"\n",
    "        folder_IMF_com = \"IMFs/FEMTO/\" + bearing + \"/combined\"\n",
    "\n",
    "        folder_IMF_ENV_hor = \"IMF_ENVs/FEMTO/\" + bearing + \"/horizontal\"\n",
    "        folder_IMF_ENV_ver = \"IMF_ENVs/FEMTO/\" + bearing + \"/vertical\"\n",
    "        folder_IMF_ENV_com = \"IMF_ENVs/FEMTO/\" + bearing + \"/combined\"\n",
    "\n",
    "        folder_IMF_FREQ_hor = \"IMF_FREQs/FEMTO/\" + bearing + \"/horizontal\"\n",
    "        folder_IMF_FREQ_ver = \"IMF_FREQs/FEMTO/\" + bearing + \"/vertical\"\n",
    "        folder_IMF_FREQ_com = \"IMF_FREQs/FEMTO/\" + bearing + \"/combined\"\n",
    "        \n",
    "        torch.save(imfs_horizontal, os.path.join(folder_IMF_hor, imf_string_horizontal))\n",
    "        torch.save(imfs_vertical, os.path.join(folder_IMF_ver, imf_string_vertical))\n",
    "        torch.save(imfs_combined, os.path.join(folder_IMF_com, imf_string_combined))\n",
    "\n",
    "        torch.save(imfs_env_horizontal, os.path.join(folder_IMF_ENV_hor, imf_env_string_horizontal))\n",
    "        torch.save(imfs_env_vertical, os.path.join(folder_IMF_ENV_ver, imf_env_string_vertical))\n",
    "        torch.save(imfs_env_combined, os.path.join(folder_IMF_ENV_com, imf_env_string_combined))\n",
    "        \n",
    "        torch.save(imfs_freq_horizontal, os.path.join(folder_IMF_FREQ_hor, imf_freq_string_horizontal))\n",
    "        torch.save(imfs_freq_vertical, os.path.join(folder_IMF_FREQ_ver, imf_freq_string_vertical))\n",
    "        torch.save(imfs_freq_combined, os.path.join(folder_IMF_FREQ_com, imf_freq_string_combined))"
   ]
  },
  {
   "cell_type": "code",
   "execution_count": null,
   "id": "976dab47",
   "metadata": {},
   "outputs": [
    {
     "ename": "",
     "evalue": "",
     "output_type": "error",
     "traceback": [
      "\u001b[1;31mRunning cells with 'Python 3.11.2' requires the ipykernel package.\n",
      "\u001b[1;31mRun the following command to install 'ipykernel' into the Python environment. \n",
      "\u001b[1;31mCommand: '/bin/python3 -m pip install ipykernel -U --user --force-reinstall'"
     ]
    }
   ],
   "source": [
    "%%time\n",
    "fs = 25600\n",
    "imfs_FEMTO(fs, directory = \"data/FEMTO/Bearing1_3\", bearing = \"Bearing1_3\")\n",
    "imfs_FEMTO(fs, directory = \"data/FEMTO/Bearing1_4\", bearing = \"Bearing1_4\")\n",
    "imfs_FEMTO(fs, directory = \"data/FEMTO/Bearing1_7\", bearing = \"Bearing1_7\")"
   ]
  }
 ],
 "metadata": {
  "kernelspec": {
   "display_name": "Python 3 (ipykernel)",
   "language": "python",
   "name": "python3"
  },
  "language_info": {
   "codemirror_mode": {
    "name": "ipython",
    "version": 3
   },
   "file_extension": ".py",
   "mimetype": "text/x-python",
   "name": "python",
   "nbconvert_exporter": "python",
   "pygments_lexer": "ipython3",
   "version": "3.11.2"
  }
 },
 "nbformat": 4,
 "nbformat_minor": 5
}
