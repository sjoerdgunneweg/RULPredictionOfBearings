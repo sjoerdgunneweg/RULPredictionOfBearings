{
 "cells": [
  {
   "cell_type": "code",
   "execution_count": 1,
   "id": "56d47c1e-f17b-4292-a3d5-aa48650f4173",
   "metadata": {},
   "outputs": [],
   "source": [
    "from torchHHT import hht\n",
    "import torch, os\n",
    "import pandas as pd\n",
    "import matplotlib.pyplot as plt"
   ]
  },
  {
   "cell_type": "code",
   "execution_count": 2,
   "id": "1aa74ca4-303f-40d3-ab1b-60002dd5f6c2",
   "metadata": {},
   "outputs": [
    {
     "name": "stdout",
     "output_type": "stream",
     "text": [
      "CPU times: user 50min 21s, sys: 2min 29s, total: 52min 51s\n",
      "Wall time: 3min 18s\n"
     ]
    }
   ],
   "source": [
    "%%time\n",
    "fs = 25600\n",
    "directory = \"data/XJTU-SY/Bearing3_5\"\n",
    "\n",
    "for fileName in os.listdir(directory):\n",
    "    filePath = os.path.join(directory, fileName)\n",
    "\n",
    "    data = pd.read_csv(filePath, sep=',') # femto dataset is seperated by comma\n",
    "    \n",
    "    horizontal = data['Horizontal_vibration_signals']\n",
    "    vertical = data['Vertical_vibration_signals']\n",
    "\n",
    "    tensor_horizontal = torch.Tensor(horizontal.values)\n",
    "    tensor_vertical = torch.Tensor(vertical.values)\n",
    "\n",
    "    tensor_combined = torch.sqrt(torch.pow(tensor_horizontal, 2) + torch.pow(tensor_vertical, 2))\n",
    "\n",
    "    if torch.cuda.is_available():\n",
    "        device = torch.device(\"cuda:0\")\n",
    "        tensor_horizontal = tensor_horizontal.cuda()\n",
    "        tensor_vertical = tensor_vertical.cuda()\n",
    "        tensor_combined = tensor_combined.cuda()\n",
    "        print(\"ja\")\n",
    "\n",
    "    imfs_horizontal, imfs_env_horizontal, imfs_freq_horizontal = hht.hilbert_huang(tensor_horizontal, fs, num_imf=3)\n",
    "    imfs_vertical, imfs_env_vertical, imfs_freq_vertical = hht.hilbert_huang(tensor_vertical, fs, num_imf=3)\n",
    "    imfs_combined, imfs_env_combined, imfs_freq_combined = hht.hilbert_huang(tensor_combined, fs, num_imf=3)\n",
    "\n",
    "    imf_string_horizontal = \"imfs_\" + filePath[13:23] + \"_horizontal_\" + fileName[:-4]  + \".pt\"\n",
    "    imf_env_string_horizontal = \"imfs_env_\" + filePath[13:23] + \"_horizontal_\" + fileName[:-4]  + \".pt\"\n",
    "    imf_freq_string_horizontal = \"imfs_freq_\" + filePath[13:23] + \"_horizontal_\" + fileName[:-4]  + \".pt\"\n",
    "    \n",
    "    imf_string_vertical = \"imfs_\" + filePath[13:23] + \"_vertical_\" + fileName[:-4]  + \".pt\"\n",
    "    imf_env_string_vertical = \"imfs_env_\" + filePath[13:23] + \"_vertical_\" + fileName[:-4]  + \".pt\"\n",
    "    imf_freq_string_vertical = \"imfs_freq_\" + filePath[13:23] + \"_vertical_\" + fileName[:-4]  + \".pt\"\n",
    "\n",
    "    imf_string_combined = \"imfs_\" + filePath[13:23] + \"_combined_\" + fileName[:-4]  + \".pt\"\n",
    "    imf_env_string_combined = \"imfs_env_\" + filePath[13:23] + \"_combined_\" + fileName[:-4]  + \".pt\"\n",
    "    imf_freq_string_combined = \"imfs_freq_\" + filePath[13:23] + \"_combined_\" + fileName[:-4]  + \".pt\"\n",
    "\n",
    "    torch.save(imfs_horizontal, os.path.join(\"IMFs/XJTU-SY/Bearing3_5/horizontal\", imf_string_horizontal))\n",
    "    torch.save(imfs_vertical, os.path.join(\"IMFs/XJTU-SY/Bearing3_5/vertical\", imf_string_vertical))\n",
    "    torch.save(imfs_combined, os.path.join(\"IMFs/XJTU-SY/Bearing3_5/combined\", imf_string_combined))\n",
    "\n",
    "    torch.save(imfs_env_horizontal, os.path.join(\"IMF_ENVs/XJTU-SY/Bearing3_5/horizontal\", imf_env_string_horizontal))\n",
    "    torch.save(imfs_env_vertical, os.path.join(\"IMF_ENVs/XJTU-SY/Bearing3_5/vertical\", imf_env_string_vertical))\n",
    "    torch.save(imfs_env_combined, os.path.join(\"IMF_ENVs/XJTU-SY/Bearing3_5/combined\", imf_env_string_combined))\n",
    "    \n",
    "    torch.save(imfs_freq_horizontal, os.path.join(\"IMF_FREQs/XJTU-SY/Bearing3_5/horizontal\", imf_freq_string_horizontal))\n",
    "    torch.save(imfs_freq_vertical, os.path.join(\"IMF_FREQs/XJTU-SY/Bearing3_5/vertical\", imf_freq_string_vertical))\n",
    "    torch.save(imfs_freq_combined, os.path.join(\"IMF_FREQs/XJTU-SY/Bearing3_5/combined\", imf_freq_string_combined))"
   ]
  },
  {
   "cell_type": "code",
   "execution_count": 3,
   "id": "e8b65fd4-dc48-439e-acbf-4772464a0489",
   "metadata": {},
   "outputs": [],
   "source": [
    "# plt.plot(tensor_horizontal)\n",
    "# plt.plot(tensor_vertical)\n",
    "# plt.plot(nieuw_dinges)"
   ]
  },
  {
   "cell_type": "code",
   "execution_count": 4,
   "id": "ab34b8d8-54c9-4424-ac4c-076d48acb02b",
   "metadata": {},
   "outputs": [
    {
     "data": {
      "text/plain": [
       "''"
      ]
     },
     "execution_count": 4,
     "metadata": {},
     "output_type": "execute_result"
    }
   ],
   "source": [
    "_"
   ]
  }
 ],
 "metadata": {
  "kernelspec": {
   "display_name": "Python 3 (ipykernel)",
   "language": "python",
   "name": "python3"
  },
  "language_info": {
   "codemirror_mode": {
    "name": "ipython",
    "version": 3
   },
   "file_extension": ".py",
   "mimetype": "text/x-python",
   "name": "python",
   "nbconvert_exporter": "python",
   "pygments_lexer": "ipython3",
   "version": "3.10.13"
  }
 },
 "nbformat": 4,
 "nbformat_minor": 5
}
