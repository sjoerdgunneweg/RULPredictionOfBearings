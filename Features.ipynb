{
 "cells": [
  {
   "cell_type": "code",
   "execution_count": 1,
   "metadata": {},
   "outputs": [],
   "source": [
    "import FeatureExtraction\n",
    "import os\n",
    "import pandas as pd\n",
    "import numpy as np\n",
    "import matplotlib.pyplot as plt"
   ]
  },
  {
   "cell_type": "code",
   "execution_count": 2,
   "metadata": {},
   "outputs": [],
   "source": [
    "# # IMS dataset directories\n",
    "# directories = [\"data/IMS/1st_test/1st_test\", \"data/IMS/2nd_test/2nd_test\", \"data/IMS/3rd_test/4th_test/txt\"]\n",
    "\n",
    "# for idx, directory in enumerate(directories):\n",
    "#     rmsFrame = pd.DataFrame([])\n",
    "    \n",
    "#     # make one big DataFrame using all the datasets in the directory\n",
    "#     for fileName in os.listdir(directory):\n",
    "#         filePath = os.path.join(directory, fileName)\n",
    "#         featureExtraction = FeatureExtraction.FeatureExtraction(filePath)\n",
    "#         rmsFrame = featureExtraction.reshapeAndConcat(featureExtraction.calculateRMS(), fileName, rmsFrame, idx+1)\n",
    "\n",
    "#     # format index to a date time combo\n",
    "#     rmsFrame.index = pd.to_datetime(rmsFrame.index, format='%Y.%m.%d.%H.%M.%S')\n",
    "#     # sort the frame by date\n",
    "#     rmsFrame = rmsFrame.sort_index()\n",
    "\n",
    "    # csvName = \"IMS_\"  + \"Dataset\"+ str(idx + 1) + \"_RMS.csv\"\n",
    "    # rmsFrame.to_csv(csvName)"
   ]
  },
  {
   "cell_type": "code",
   "execution_count": 3,
   "metadata": {},
   "outputs": [],
   "source": [
    "# rmsFrame[1].plot(figsize=(18,6))"
   ]
  },
  {
   "cell_type": "code",
   "execution_count": 4,
   "metadata": {},
   "outputs": [],
   "source": [
    "directories = [\"data/IMS/1st_test/1st_test\", \"data/IMS/2nd_test/2nd_test\", \"data/IMS/3rd_test/4th_test/txt\"]\n",
    "\n",
    "for idx, directory in enumerate(directories):\n",
    "    frame = pd.DataFrame([])\n",
    "    \n",
    "    # make one big DataFrame using all the datasets in the directory\n",
    "    for fileName in os.listdir(directory):\n",
    "        filePath = os.path.join(directory, fileName)\n",
    "        featureExtraction = FeatureExtraction.FeatureExtraction(filePath)\n",
    "        frame = featureExtraction.concatter(frame, idx)\n",
    "\n",
    "    # format index to a date time combo\n",
    "    frame.index = pd.to_datetime(frame.index, format='%Y.%m.%d.%H.%M.%S')\n",
    "    # sort the frame by date\n",
    "    frame = frame.sort_index()\n",
    "\n",
    "    csvName = \"raw\"  + \"Dataset\"+ str(idx + 1) + \".csv\"\n",
    "    frame.to_csv(csvName)\n"
   ]
  },
  {
   "cell_type": "code",
   "execution_count": null,
   "metadata": {},
   "outputs": [],
   "source": []
  }
 ],
 "metadata": {
  "kernelspec": {
   "display_name": ".venv",
   "language": "python",
   "name": "python3"
  },
  "language_info": {
   "codemirror_mode": {
    "name": "ipython",
    "version": 3
   },
   "file_extension": ".py",
   "mimetype": "text/x-python",
   "name": "python",
   "nbconvert_exporter": "python",
   "pygments_lexer": "ipython3",
   "version": "3.11.2"
  }
 },
 "nbformat": 4,
 "nbformat_minor": 2
}
