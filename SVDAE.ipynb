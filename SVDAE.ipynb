{
 "cells": [
  {
   "cell_type": "code",
   "execution_count": 9,
   "id": "4bda3a76-dca5-4e0b-ac14-3ef7f900d759",
   "metadata": {},
   "outputs": [],
   "source": [
    "import numpy as np\n",
    "from keras.layers import Input, Dense, Lambda\n",
    "from keras.models import Model\n",
    "from keras import backend as K\n",
    "from keras.optimizers import Adam"
   ]
  },
  {
   "cell_type": "code",
   "execution_count": 10,
   "id": "dc486e7d-6ac3-47c7-a916-2526baa0595e",
   "metadata": {},
   "outputs": [],
   "source": [
    "# Define the structure of the autoencoder\n",
    "input_dim = 5\n",
    "hidden_dim = 2\n",
    "latent_dim = 1\n",
    "\n",
    "# Define the Encoder\n",
    "input_img = Input(shape=(input_dim,))\n",
    "encoded = Dense(5, activation='relu')(input_img)\n",
    "encoded = Dense(2, activation='relu')(encoded)\n",
    "\n",
    "# Define the Variational Layer\n",
    "z_mean = Dense(latent_dim)(encoded)\n",
    "z_log_var = Dense(latent_dim)(encoded)"
   ]
  },
  {
   "cell_type": "code",
   "execution_count": 11,
   "id": "a4b4eda0-8d0c-4e35-8b1f-b27e56544d8c",
   "metadata": {},
   "outputs": [
    {
     "ename": "SyntaxError",
     "evalue": "invalid syntax (1397532307.py, line 4)",
     "output_type": "error",
     "traceback": [
      "\u001b[0;36m  Cell \u001b[0;32mIn[11], line 4\u001b[0;36m\u001b[0m\n\u001b[0;31m    return z_mean + K.exp(0.5 * z_log_var) * epsilonz = Lambda(sampling, output_shape=(latent_dim,))([z_mean, z_log_var])\u001b[0m\n\u001b[0m                                                      ^\u001b[0m\n\u001b[0;31mSyntaxError\u001b[0m\u001b[0;31m:\u001b[0m invalid syntax\n"
     ]
    }
   ],
   "source": [
    "def sampling(args):\n",
    "    z_mean, z_log_var = args\n",
    "    epsilon = K.random_normal(shape=(K.shape(z_mean)[0], latent_dim), mean=0., stddev=1.0)\n",
    "    return z_mean + K.exp(0.5 * z_log_var) * epsilonz = Lambda(sampling, output_shape=(latent_dim,))([z_mean, z_log_var])"
   ]
  },
  {
   "cell_type": "code",
   "execution_count": null,
   "id": "a41b85e4-08e5-4582-8a5d-67f7f61464d3",
   "metadata": {},
   "outputs": [],
   "source": [
    "# Define the Decoder\n",
    "decoded = Dense(2, activation='relu')(z)\n",
    "decoded = Dense(5, activation='relu')(decoded)\n",
    "decoded = Dense(input_dim, activation='relu')(decoded)\n",
    "\n",
    "# Combine Encoder and Decoder\n",
    "autoencoder = Model(input_img, decoded)\n",
    "\n",
    "# Compile the Model\n",
    "adam = Adam(lr=0.001)\n",
    "autoencoder.compile(optimizer=adam, loss='mse')\n",
    "\n",
    "# Generate some random data for demonstration purposes\n",
    "data = np.random.random((100, input_dim))\n",
    "\n",
    "# Train the Model\n",
    "autoencoder.fit(data, data,\n",
    "                epochs=20,\n",
    "                batch_size=2)"
   ]
  }
 ],
 "metadata": {
  "kernelspec": {
   "display_name": "Python 3 (ipykernel)",
   "language": "python",
   "name": "python3"
  },
  "language_info": {
   "codemirror_mode": {
    "name": "ipython",
    "version": 3
   },
   "file_extension": ".py",
   "mimetype": "text/x-python",
   "name": "python",
   "nbconvert_exporter": "python",
   "pygments_lexer": "ipython3",
   "version": "3.10.13"
  }
 },
 "nbformat": 4,
 "nbformat_minor": 5
}
